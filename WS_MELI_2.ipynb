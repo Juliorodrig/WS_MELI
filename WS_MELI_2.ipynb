{
 "cells": [
  {
   "cell_type": "markdown",
   "id": "87c12ac6-61cf-41a8-9918-373904e499f0",
   "metadata": {},
   "source": [
    "# Ejercicio_2: Similitud entre productos"
   ]
  },
  {
   "cell_type": "code",
   "execution_count": null,
   "id": "348566b4-d32e-4a15-966f-69933bd642b6",
   "metadata": {},
   "outputs": [],
   "source": [
    "# llamado de las librerias\n",
    "\n",
    "import pandas as pd\n",
    "\n",
    "#!pip install rapidfuzz\n",
    "\n",
    "from rapidfuzz import process, fuzz"
   ]
  },
  {
   "cell_type": "code",
   "execution_count": 105,
   "id": "9364aa2c-6b19-4455-b772-cdf6b7a4cd6e",
   "metadata": {},
   "outputs": [],
   "source": [
    "# Subir los dos CSV a la consola y visuliazar los datos\n",
    "\n",
    "df_1 = pd.read_csv('items_titles.csv')\n",
    "df_2 = pd.read_csv('items_titles_test.csv')"
   ]
  },
  {
   "cell_type": "code",
   "execution_count": 131,
   "id": "684d0e8c-41b5-4d9a-a256-3541f105ec43",
   "metadata": {},
   "outputs": [
    {
     "name": "stdout",
     "output_type": "stream",
     "text": [
      "                               ITE_ITEM_TITLE_test_df_2  \\\n",
      "0      Tênis Olympikus Esporte Valente - Masculino Kids   \n",
      "1     Bicicleta Barra Forte Samy C/ 6 Marchas Cubo C...   \n",
      "2          Tênis Usthemp Slip-on Temático - Labrador 2   \n",
      "3           Tênis Casual Feminino Moleca Tecido Tie Dye   \n",
      "4           Tênis Star Baby Sapatinho Conforto + Brinde   \n",
      "...                                                 ...   \n",
      "9995               Chuteira Futsal Oxn Velox 3 Infantil   \n",
      "9996  Sapatenis Casual Masculino Estiloso 24horas Co...   \n",
      "9997          Tênis Feminino Infantil Molekinha Tie Dye   \n",
      "9998  Tênis Feminino Leve Barato Ganhe 1 Colchonete ...   \n",
      "9999  Tênis Polo Ralph Lauren Modelo Cantor Low Bran...   \n",
      "\n",
      "                                    ITE_ITEM_TITLE_df_1  Score similitud  \n",
      "0                   Tênis Olympikus Combate - Masculino        77.108434  \n",
      "1                         Bicicleta Barra Forte Aro 24         60.465116  \n",
      "2     Tênis Usthemp Slip-on Temático - Lunna Labrad...        93.617021  \n",
      "3                    Tênis Casual Feminino Moleca Preto        80.519481  \n",
      "4                  Tênis Baby Elástico Confort Princesa        68.354430  \n",
      "...                                                 ...              ...  \n",
      "9995               Chuteira Futsal Oxn Velox 3 Infantil       100.000000  \n",
      "9996  Sapatenis Casual Masculino Com Estilo 2021 Oferta        73.394495  \n",
      "9997                  Tênis Feminino Infantil Molekinha        89.189189  \n",
      "9998  Tênis Unissex Barato Leve Ganhe 1 Colchonete P...        83.333333  \n",
      "9999  Tênis Puma Anzarun Lite Bold Marinho E Branco ...        65.486726  \n",
      "\n",
      "[10000 rows x 3 columns]\n"
     ]
    }
   ],
   "source": [
    "\n",
    "# Uso de la Función de rapidfuzz para encontrar el valor más similar en df_2 para cada valor en df_1\n",
    "\n",
    "def encontrar_similitud_rapida(df_2, df_1):\n",
    "    resultados = []\n",
    "    \n",
    "    # Listar valores del DF_1\n",
    "    df1_valores = df_1['ITE_ITEM_TITLE'].values.tolist()\n",
    "    \n",
    "    # para cada valor del df_2, buscar el valor más similar en df_1 usando rapidfuzz\n",
    "    for valor1 in df_2['ITE_ITEM_TITLE']:\n",
    "        \n",
    "        similitud = process.extractOne(valor1, df1_valores, scorer=fuzz.ratio)\n",
    "        \n",
    "        # Verificar si la similitud es mayor que el umbral\n",
    "        resultados.append({\n",
    "               'ITE_ITEM_TITLE_test_df_2': valor1,\n",
    "               'ITE_ITEM_TITLE_df_1': similitud[0],\n",
    "               'Score similitud': similitud[1]\n",
    "            })\n",
    "    \n",
    "    # Convertir los resultados a un DataFrame\n",
    "    \n",
    "    return pd.DataFrame(resultados)\n",
    "\n",
    "print(resultados)\n",
    "\n",
    "·resultados.to_csv('Resultado_Test.csv', index=False)\n"
   ]
  },
  {
   "cell_type": "code",
   "execution_count": null,
   "id": "b6f9ac8a-f593-42c0-b739-0da66582a758",
   "metadata": {},
   "outputs": [],
   "source": []
  },
  {
   "cell_type": "code",
   "execution_count": null,
   "id": "b45bfc43-8d0d-4763-bae5-3f0662695a72",
   "metadata": {},
   "outputs": [],
   "source": []
  }
 ],
 "metadata": {
  "kernelspec": {
   "display_name": "Python 3 (ipykernel)",
   "language": "python",
   "name": "python3"
  },
  "language_info": {
   "codemirror_mode": {
    "name": "ipython",
    "version": 3
   },
   "file_extension": ".py",
   "mimetype": "text/x-python",
   "name": "python",
   "nbconvert_exporter": "python",
   "pygments_lexer": "ipython3",
   "version": "3.12.4"
  }
 },
 "nbformat": 4,
 "nbformat_minor": 5
}
